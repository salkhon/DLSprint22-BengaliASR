{
 "cells": [
  {
   "cell_type": "markdown",
   "id": "6ebbef9d",
   "metadata": {
    "papermill": {
     "duration": 0.004408,
     "end_time": "2022-08-31T15:00:57.573943",
     "exception": false,
     "start_time": "2022-08-31T15:00:57.569535",
     "status": "completed"
    },
    "tags": []
   },
   "source": [
    "wav input has been cast to required mp3 keys using the following code\n",
    "  \n",
    "    df.path = df.path.apply(lambda x: post_process_keys(x))"
   ]
  },
  {
   "cell_type": "code",
   "execution_count": null,
   "id": "db799577",
   "metadata": {
    "execution": {
     "iopub.execute_input": "2022-08-31T15:00:57.582527Z",
     "iopub.status.busy": "2022-08-31T15:00:57.582029Z",
     "iopub.status.idle": "2022-08-31T15:00:58.992130Z",
     "shell.execute_reply": "2022-08-31T15:00:58.990875Z"
    },
    "papermill": {
     "duration": 1.417244,
     "end_time": "2022-08-31T15:00:58.994668",
     "exception": false,
     "start_time": "2022-08-31T15:00:57.577424",
     "status": "completed"
    },
    "tags": []
   },
   "outputs": [],
   "source": [
    "!cp -r ../input/python-packages2 ./"
   ]
  },
  {
   "cell_type": "code",
   "execution_count": null,
   "id": "517b4a81",
   "metadata": {
    "execution": {
     "iopub.execute_input": "2022-08-31T15:00:59.004020Z",
     "iopub.status.busy": "2022-08-31T15:00:59.003060Z",
     "iopub.status.idle": "2022-08-31T15:02:23.779030Z",
     "shell.execute_reply": "2022-08-31T15:02:23.777811Z"
    },
    "papermill": {
     "duration": 84.783201,
     "end_time": "2022-08-31T15:02:23.781611",
     "exception": false,
     "start_time": "2022-08-31T15:00:58.998410",
     "status": "completed"
    },
    "tags": []
   },
   "outputs": [],
   "source": [
    "!tar xvfz ./python-packages2/jiwer.tgz\n",
    "!pip install ./jiwer/jiwer-2.3.0-py3-none-any.whl -f ./ --no-index\n",
    "!tar xvfz ./python-packages2/normalizer.tgz\n",
    "!pip install ./normalizer/bnunicodenormalizer-0.0.24.tar.gz -f ./ --no-index\n",
    "!tar xvfz ./python-packages2/pyctcdecode.tgz\n",
    "!pip install ./pyctcdecode/attrs-22.1.0-py2.py3-none-any.whl -f ./ --no-index --no-deps\n",
    "!pip install ./pyctcdecode/exceptiongroup-1.0.0rc9-py3-none-any.whl -f ./ --no-index --no-deps\n",
    "!pip install ./pyctcdecode/hypothesis-6.54.4-py3-none-any.whl -f ./ --no-index --no-deps\n",
    "!pip install ./pyctcdecode/numpy-1.21.6-cp37-cp37m-manylinux_2_12_x86_64.manylinux2010_x86_64.whl -f ./ --no-index --no-deps\n",
    "!pip install ./pyctcdecode/pygtrie-2.5.0.tar.gz -f ./ --no-index --no-deps\n",
    "!pip install ./pyctcdecode/sortedcontainers-2.4.0-py2.py3-none-any.whl -f ./ --no-index --no-deps\n",
    "!pip install ./pyctcdecode/pyctcdecode-0.4.0-py2.py3-none-any.whl -f ./ --no-index --no-deps\n",
    "\n",
    "!tar xvfz ./python-packages2/pypikenlm.tgz\n",
    "!pip install ./pypikenlm/pypi-kenlm-0.1.20220713.tar.gz -f ./ --no-index --no-deps\n",
    "\n"
   ]
  },
  {
   "cell_type": "code",
   "execution_count": null,
   "id": "db28bc30",
   "metadata": {
    "execution": {
     "iopub.execute_input": "2022-08-31T15:02:23.799211Z",
     "iopub.status.busy": "2022-08-31T15:02:23.798586Z",
     "iopub.status.idle": "2022-08-31T15:02:34.990449Z",
     "shell.execute_reply": "2022-08-31T15:02:34.989142Z"
    },
    "papermill": {
     "duration": 11.203408,
     "end_time": "2022-08-31T15:02:34.993033",
     "exception": false,
     "start_time": "2022-08-31T15:02:23.789625",
     "status": "completed"
    },
    "tags": []
   },
   "outputs": [],
   "source": [
    "import os\n",
    "import numpy as np\n",
    "from tqdm.auto import tqdm\n",
    "from glob import glob\n",
    "from transformers import AutoFeatureExtractor, pipeline\n",
    "import pandas as pd\n",
    "import librosa\n",
    "import IPython\n",
    "from datasets import load_metric\n",
    "from tqdm.auto import tqdm\n",
    "from torch.utils.data import Dataset, DataLoader\n",
    "import torch\n",
    "import gc\n",
    "import wave\n",
    "from scipy.io import wavfile\n",
    "import scipy.signal as sps\n",
    "import pyctcdecode\n",
    "\n",
    "tqdm.pandas()\n",
    "import warnings\n",
    "warnings.filterwarnings(\"ignore\")\n",
    "\n"
   ]
  },
  {
   "cell_type": "code",
   "execution_count": null,
   "id": "5baef0bb",
   "metadata": {
    "execution": {
     "iopub.execute_input": "2022-08-31T15:02:35.011308Z",
     "iopub.status.busy": "2022-08-31T15:02:35.010087Z",
     "iopub.status.idle": "2022-08-31T15:02:35.015275Z",
     "shell.execute_reply": "2022-08-31T15:02:35.014296Z"
    },
    "papermill": {
     "duration": 0.016316,
     "end_time": "2022-08-31T15:02:35.017233",
     "exception": false,
     "start_time": "2022-08-31T15:02:35.000917",
     "status": "completed"
    },
    "tags": []
   },
   "outputs": [],
   "source": [
    "# CHANGE ACCORDINGLY\n",
    "BATCH_SIZE = 16\n",
    "TEST_DIRECTORY = '../input/test-wav-files-dl-sprint/test_files_wav'"
   ]
  },
  {
   "cell_type": "code",
   "execution_count": null,
   "id": "f27637c1",
   "metadata": {
    "execution": {
     "iopub.execute_input": "2022-08-31T15:02:35.034995Z",
     "iopub.status.busy": "2022-08-31T15:02:35.034402Z",
     "iopub.status.idle": "2022-08-31T15:02:35.038816Z",
     "shell.execute_reply": "2022-08-31T15:02:35.037791Z"
    },
    "papermill": {
     "duration": 0.016005,
     "end_time": "2022-08-31T15:02:35.041113",
     "exception": false,
     "start_time": "2022-08-31T15:02:35.025108",
     "status": "completed"
    },
    "tags": []
   },
   "outputs": [],
   "source": [
    "\n",
    "class CFG:\n",
    "    my_model_name = '../input/yellowking-dlsprint-model/YellowKing_model'\n",
    "    processor_name = '../input/yellowking-dlsprint-model/YellowKing_processor'"
   ]
  },
  {
   "cell_type": "code",
   "execution_count": null,
   "id": "ec8738dc",
   "metadata": {
    "execution": {
     "iopub.execute_input": "2022-08-31T15:02:35.058086Z",
     "iopub.status.busy": "2022-08-31T15:02:35.057823Z",
     "iopub.status.idle": "2022-08-31T15:04:03.286179Z",
     "shell.execute_reply": "2022-08-31T15:04:03.285100Z"
    },
    "papermill": {
     "duration": 88.240086,
     "end_time": "2022-08-31T15:04:03.288910",
     "exception": false,
     "start_time": "2022-08-31T15:02:35.048824",
     "status": "completed"
    },
    "tags": []
   },
   "outputs": [],
   "source": [
    "from transformers import Wav2Vec2ProcessorWithLM\n",
    "\n",
    "processor = Wav2Vec2ProcessorWithLM.from_pretrained(CFG.processor_name)\n"
   ]
  },
  {
   "cell_type": "code",
   "execution_count": null,
   "id": "549ecc8a",
   "metadata": {
    "execution": {
     "iopub.execute_input": "2022-08-31T15:04:03.307650Z",
     "iopub.status.busy": "2022-08-31T15:04:03.307307Z",
     "iopub.status.idle": "2022-08-31T15:04:25.276640Z",
     "shell.execute_reply": "2022-08-31T15:04:25.275662Z"
    },
    "papermill": {
     "duration": 21.981294,
     "end_time": "2022-08-31T15:04:25.279026",
     "exception": false,
     "start_time": "2022-08-31T15:04:03.297732",
     "status": "completed"
    },
    "tags": []
   },
   "outputs": [],
   "source": [
    "\n",
    "\n",
    "my_asrLM = pipeline(\"automatic-speech-recognition\", model=CFG.my_model_name ,feature_extractor =processor.feature_extractor, tokenizer= processor.tokenizer,decoder=processor.decoder ,device=0)\n"
   ]
  },
  {
   "cell_type": "markdown",
   "id": "1c61ff8b",
   "metadata": {
    "papermill": {
     "duration": 0.00763,
     "end_time": "2022-08-31T15:04:25.295370",
     "exception": false,
     "start_time": "2022-08-31T15:04:25.287740",
     "status": "completed"
    },
    "tags": []
   },
   "source": [
    "**Following Sample Submission:**"
   ]
  },
  {
   "cell_type": "code",
   "execution_count": null,
   "id": "3e2a2ac0",
   "metadata": {
    "execution": {
     "iopub.execute_input": "2022-08-31T15:04:25.312031Z",
     "iopub.status.busy": "2022-08-31T15:04:25.311653Z",
     "iopub.status.idle": "2022-08-31T15:04:25.317130Z",
     "shell.execute_reply": "2022-08-31T15:04:25.316154Z"
    },
    "papermill": {
     "duration": 0.016361,
     "end_time": "2022-08-31T15:04:25.319152",
     "exception": false,
     "start_time": "2022-08-31T15:04:25.302791",
     "status": "completed"
    },
    "tags": []
   },
   "outputs": [],
   "source": [
    "def infer(audio_path):\n",
    "    speech, sr = librosa.load(audio_path, sr=processor.feature_extractor.sampling_rate)\n",
    "\n",
    "    my_LM_prediction = my_asrLM(\n",
    "                speech, chunk_length_s=112, stride_length_s=None\n",
    "            )\n",
    "\n",
    "    return my_LM_prediction['text']\n"
   ]
  },
  {
   "cell_type": "code",
   "execution_count": null,
   "id": "070fa959",
   "metadata": {
    "execution": {
     "iopub.execute_input": "2022-08-31T15:04:25.336519Z",
     "iopub.status.busy": "2022-08-31T15:04:25.335026Z",
     "iopub.status.idle": "2022-08-31T15:04:25.341260Z",
     "shell.execute_reply": "2022-08-31T15:04:25.340430Z"
    },
    "papermill": {
     "duration": 0.016718,
     "end_time": "2022-08-31T15:04:25.343307",
     "exception": false,
     "start_time": "2022-08-31T15:04:25.326589",
     "status": "completed"
    },
    "tags": []
   },
   "outputs": [],
   "source": [
    "def batch_infer(audio_paths, batch_size=BATCH_SIZE):\n",
    "    '''\n",
    "    infers on a batch of audio\n",
    "    args:\n",
    "      audio_paths  : list of path to audio files <list of string>\n",
    "    returns:\n",
    "      bangla predicted texts <list of string>\n",
    "    '''\n",
    "    results = []\n",
    "    for path in audio_paths:\n",
    "        results.append(infer(path))\n",
    "    \n",
    "    return results"
   ]
  },
  {
   "cell_type": "code",
   "execution_count": null,
   "id": "80ceeb88",
   "metadata": {
    "execution": {
     "iopub.execute_input": "2022-08-31T15:04:25.359803Z",
     "iopub.status.busy": "2022-08-31T15:04:25.359019Z",
     "iopub.status.idle": "2022-08-31T15:04:25.367966Z",
     "shell.execute_reply": "2022-08-31T15:04:25.367114Z"
    },
    "papermill": {
     "duration": 0.019274,
     "end_time": "2022-08-31T15:04:25.370016",
     "exception": false,
     "start_time": "2022-08-31T15:04:25.350742",
     "status": "completed"
    },
    "tags": []
   },
   "outputs": [],
   "source": [
    "from bnunicodenormalizer import Normalizer \n",
    "\n",
    "\n",
    "bnorm = Normalizer()\n",
    "def normalize(sen):\n",
    "    _words = [bnorm(word)['normalized']  for word in sen.split()]\n",
    "    return \" \".join([word for word in _words if word is not None])\n",
    "\n",
    "def dari(sentence):\n",
    "    try:\n",
    "        if sentence[-1]!=\"।\":\n",
    "            sentence+=\"।\"\n",
    "    except:\n",
    "        print(sentence)\n",
    "    return sentence"
   ]
  },
  {
   "cell_type": "code",
   "execution_count": null,
   "id": "13004a56",
   "metadata": {
    "execution": {
     "iopub.execute_input": "2022-08-31T15:04:25.386088Z",
     "iopub.status.busy": "2022-08-31T15:04:25.385830Z",
     "iopub.status.idle": "2022-08-31T15:04:25.390246Z",
     "shell.execute_reply": "2022-08-31T15:04:25.389235Z"
    },
    "papermill": {
     "duration": 0.014899,
     "end_time": "2022-08-31T15:04:25.392569",
     "exception": false,
     "start_time": "2022-08-31T15:04:25.377670",
     "status": "completed"
    },
    "tags": []
   },
   "outputs": [],
   "source": [
    "def post_process_keys(str):\n",
    "    return str.replace(\"../input/test-wav-files-dl-sprint/test_files_wav/\",\"\").replace(\".wav\",\".mp3\")"
   ]
  },
  {
   "cell_type": "code",
   "execution_count": null,
   "id": "5774fbda",
   "metadata": {
    "execution": {
     "iopub.execute_input": "2022-08-31T15:04:25.408388Z",
     "iopub.status.busy": "2022-08-31T15:04:25.408112Z",
     "iopub.status.idle": "2022-08-31T15:04:25.415092Z",
     "shell.execute_reply": "2022-08-31T15:04:25.414158Z"
    },
    "papermill": {
     "duration": 0.017207,
     "end_time": "2022-08-31T15:04:25.417151",
     "exception": false,
     "start_time": "2022-08-31T15:04:25.399944",
     "status": "completed"
    },
    "tags": []
   },
   "outputs": [],
   "source": [
    "def directory_infer(audio_dir):\n",
    "    '''\n",
    "    infers on a directory that contains audio files\n",
    "    args:\n",
    "      audio_dir  : directory that contains some audio files <string>\n",
    "    returns:\n",
    "      a dataframe that contains 2 columns:\n",
    "        * path <string>\n",
    "        * sentence <string>\n",
    "    '''\n",
    "    # list all audio files\n",
    "\n",
    "    audio_paths=[audio_path for audio_path in tqdm(glob(os.path.join(audio_dir,\"*.*\")))]\n",
    "    sentences=[]\n",
    "    for idx in tqdm(range(0,len(audio_paths),BATCH_SIZE)):\n",
    "        batch_paths=audio_paths[idx:idx+BATCH_SIZE]\n",
    "        sentences+=batch_infer(batch_paths)\n",
    "        \n",
    "    df= pd.DataFrame({\"path\":audio_paths,\"sentence\":sentences})\n",
    "    df.sentence= df.sentence.apply(lambda x:normalize(x))\n",
    "    df.sentence= df.sentence.apply(lambda x:dari(x))\n",
    "    df.path = df.path.apply(lambda x: post_process_keys(x))\n",
    "    \n",
    "    return df "
   ]
  },
  {
   "cell_type": "code",
   "execution_count": null,
   "id": "5c17f857",
   "metadata": {
    "execution": {
     "iopub.execute_input": "2022-08-31T15:04:25.433461Z",
     "iopub.status.busy": "2022-08-31T15:04:25.433191Z",
     "iopub.status.idle": "2022-08-31T15:44:04.831053Z",
     "shell.execute_reply": "2022-08-31T15:44:04.829388Z"
    },
    "papermill": {
     "duration": 2379.418093,
     "end_time": "2022-08-31T15:44:04.842937",
     "exception": false,
     "start_time": "2022-08-31T15:04:25.424844",
     "status": "completed"
    },
    "tags": []
   },
   "outputs": [],
   "source": [
    "submission = directory_infer(TEST_DIRECTORY)\n",
    "submission.to_csv(\"submission.csv\", index=False)\n",
    "submission.head()"
   ]
  }
 ],
 "metadata": {
  "kernelspec": {
   "display_name": "Python 3.10.4 64-bit",
   "language": "python",
   "name": "python3"
  },
  "language_info": {
   "codemirror_mode": {
    "name": "ipython",
    "version": 3
   },
   "file_extension": ".py",
   "mimetype": "text/x-python",
   "name": "python",
   "nbconvert_exporter": "python",
   "pygments_lexer": "ipython3",
   "version": "3.10.4"
  },
  "papermill": {
   "default_parameters": {},
   "duration": 2598.221796,
   "end_time": "2022-08-31T15:44:07.879227",
   "environment_variables": {},
   "exception": null,
   "input_path": "__notebook__.ipynb",
   "output_path": "__notebook__.ipynb",
   "parameters": {},
   "start_time": "2022-08-31T15:00:49.657431",
   "version": "2.3.4"
  },
  "vscode": {
   "interpreter": {
    "hash": "916dbcbb3f70747c44a77c7bcd40155683ae19c65e1c03b4aa3499c5328201f1"
   }
  },
  "widgets": {
   "application/vnd.jupyter.widget-state+json": {
    "state": {
     "01e4f673cf55437e968007afa2b8f1e7": {
      "model_module": "@jupyter-widgets/controls",
      "model_module_version": "1.5.0",
      "model_name": "HTMLModel",
      "state": {
       "_dom_classes": [],
       "_model_module": "@jupyter-widgets/controls",
       "_model_module_version": "1.5.0",
       "_model_name": "HTMLModel",
       "_view_count": null,
       "_view_module": "@jupyter-widgets/controls",
       "_view_module_version": "1.5.0",
       "_view_name": "HTMLView",
       "description": "",
       "description_tooltip": null,
       "layout": "IPY_MODEL_7bf4a8d0afd14f0fa68b543915f761ff",
       "placeholder": "​",
       "style": "IPY_MODEL_1ba5c0699a614444bf7193ab755e60ab",
       "value": " 485/485 [39:10&lt;00:00,  3.77s/it]"
      }
     },
     "0df3fd9099b0423996a2d72f67fb27e2": {
      "model_module": "@jupyter-widgets/controls",
      "model_module_version": "1.5.0",
      "model_name": "HBoxModel",
      "state": {
       "_dom_classes": [],
       "_model_module": "@jupyter-widgets/controls",
       "_model_module_version": "1.5.0",
       "_model_name": "HBoxModel",
       "_view_count": null,
       "_view_module": "@jupyter-widgets/controls",
       "_view_module_version": "1.5.0",
       "_view_name": "HBoxView",
       "box_style": "",
       "children": [
        "IPY_MODEL_1976aa6435fc42c18df100088e8240f0",
        "IPY_MODEL_4960955e0f124479b48da30c9a6b0551",
        "IPY_MODEL_f2097df1470c4aeea18312e2543bf648"
       ],
       "layout": "IPY_MODEL_b11a410d38fa42ffb1a3b83e15cd8a1c"
      }
     },
     "0e094c5afbc74859ae328a7324c21715": {
      "model_module": "@jupyter-widgets/base",
      "model_module_version": "1.2.0",
      "model_name": "LayoutModel",
      "state": {
       "_model_module": "@jupyter-widgets/base",
       "_model_module_version": "1.2.0",
       "_model_name": "LayoutModel",
       "_view_count": null,
       "_view_module": "@jupyter-widgets/base",
       "_view_module_version": "1.2.0",
       "_view_name": "LayoutView",
       "align_content": null,
       "align_items": null,
       "align_self": null,
       "border": null,
       "bottom": null,
       "display": null,
       "flex": null,
       "flex_flow": null,
       "grid_area": null,
       "grid_auto_columns": null,
       "grid_auto_flow": null,
       "grid_auto_rows": null,
       "grid_column": null,
       "grid_gap": null,
       "grid_row": null,
       "grid_template_areas": null,
       "grid_template_columns": null,
       "grid_template_rows": null,
       "height": null,
       "justify_content": null,
       "justify_items": null,
       "left": null,
       "margin": null,
       "max_height": null,
       "max_width": null,
       "min_height": null,
       "min_width": null,
       "object_fit": null,
       "object_position": null,
       "order": null,
       "overflow": null,
       "overflow_x": null,
       "overflow_y": null,
       "padding": null,
       "right": null,
       "top": null,
       "visibility": null,
       "width": null
      }
     },
     "1329e4b7421d4b5686871e4ed1a7be00": {
      "model_module": "@jupyter-widgets/base",
      "model_module_version": "1.2.0",
      "model_name": "LayoutModel",
      "state": {
       "_model_module": "@jupyter-widgets/base",
       "_model_module_version": "1.2.0",
       "_model_name": "LayoutModel",
       "_view_count": null,
       "_view_module": "@jupyter-widgets/base",
       "_view_module_version": "1.2.0",
       "_view_name": "LayoutView",
       "align_content": null,
       "align_items": null,
       "align_self": null,
       "border": null,
       "bottom": null,
       "display": null,
       "flex": null,
       "flex_flow": null,
       "grid_area": null,
       "grid_auto_columns": null,
       "grid_auto_flow": null,
       "grid_auto_rows": null,
       "grid_column": null,
       "grid_gap": null,
       "grid_row": null,
       "grid_template_areas": null,
       "grid_template_columns": null,
       "grid_template_rows": null,
       "height": null,
       "justify_content": null,
       "justify_items": null,
       "left": null,
       "margin": null,
       "max_height": null,
       "max_width": null,
       "min_height": null,
       "min_width": null,
       "object_fit": null,
       "object_position": null,
       "order": null,
       "overflow": null,
       "overflow_x": null,
       "overflow_y": null,
       "padding": null,
       "right": null,
       "top": null,
       "visibility": null,
       "width": null
      }
     },
     "1976aa6435fc42c18df100088e8240f0": {
      "model_module": "@jupyter-widgets/controls",
      "model_module_version": "1.5.0",
      "model_name": "HTMLModel",
      "state": {
       "_dom_classes": [],
       "_model_module": "@jupyter-widgets/controls",
       "_model_module_version": "1.5.0",
       "_model_name": "HTMLModel",
       "_view_count": null,
       "_view_module": "@jupyter-widgets/controls",
       "_view_module_version": "1.5.0",
       "_view_name": "HTMLView",
       "description": "",
       "description_tooltip": null,
       "layout": "IPY_MODEL_d2b99084dd684a3899bf2450a31e1aa8",
       "placeholder": "​",
       "style": "IPY_MODEL_71e5e313f44e412db494b01e3e04a2b0",
       "value": "100%"
      }
     },
     "1ba5c0699a614444bf7193ab755e60ab": {
      "model_module": "@jupyter-widgets/controls",
      "model_module_version": "1.5.0",
      "model_name": "DescriptionStyleModel",
      "state": {
       "_model_module": "@jupyter-widgets/controls",
       "_model_module_version": "1.5.0",
       "_model_name": "DescriptionStyleModel",
       "_view_count": null,
       "_view_module": "@jupyter-widgets/base",
       "_view_module_version": "1.2.0",
       "_view_name": "StyleView",
       "description_width": ""
      }
     },
     "2489de3bc1144144aeddffa047ca76c7": {
      "model_module": "@jupyter-widgets/base",
      "model_module_version": "1.2.0",
      "model_name": "LayoutModel",
      "state": {
       "_model_module": "@jupyter-widgets/base",
       "_model_module_version": "1.2.0",
       "_model_name": "LayoutModel",
       "_view_count": null,
       "_view_module": "@jupyter-widgets/base",
       "_view_module_version": "1.2.0",
       "_view_name": "LayoutView",
       "align_content": null,
       "align_items": null,
       "align_self": null,
       "border": null,
       "bottom": null,
       "display": null,
       "flex": null,
       "flex_flow": null,
       "grid_area": null,
       "grid_auto_columns": null,
       "grid_auto_flow": null,
       "grid_auto_rows": null,
       "grid_column": null,
       "grid_gap": null,
       "grid_row": null,
       "grid_template_areas": null,
       "grid_template_columns": null,
       "grid_template_rows": null,
       "height": null,
       "justify_content": null,
       "justify_items": null,
       "left": null,
       "margin": null,
       "max_height": null,
       "max_width": null,
       "min_height": null,
       "min_width": null,
       "object_fit": null,
       "object_position": null,
       "order": null,
       "overflow": null,
       "overflow_x": null,
       "overflow_y": null,
       "padding": null,
       "right": null,
       "top": null,
       "visibility": null,
       "width": null
      }
     },
     "453b081a617842f7b754abf28563a15e": {
      "model_module": "@jupyter-widgets/controls",
      "model_module_version": "1.5.0",
      "model_name": "DescriptionStyleModel",
      "state": {
       "_model_module": "@jupyter-widgets/controls",
       "_model_module_version": "1.5.0",
       "_model_name": "DescriptionStyleModel",
       "_view_count": null,
       "_view_module": "@jupyter-widgets/base",
       "_view_module_version": "1.2.0",
       "_view_name": "StyleView",
       "description_width": ""
      }
     },
     "484780f27390489da88dfb96411f0b0e": {
      "model_module": "@jupyter-widgets/controls",
      "model_module_version": "1.5.0",
      "model_name": "FloatProgressModel",
      "state": {
       "_dom_classes": [],
       "_model_module": "@jupyter-widgets/controls",
       "_model_module_version": "1.5.0",
       "_model_name": "FloatProgressModel",
       "_view_count": null,
       "_view_module": "@jupyter-widgets/controls",
       "_view_module_version": "1.5.0",
       "_view_name": "ProgressView",
       "bar_style": "success",
       "description": "",
       "description_tooltip": null,
       "layout": "IPY_MODEL_697c6af145fe47e6850fe594fd7f0121",
       "max": 485,
       "min": 0,
       "orientation": "horizontal",
       "style": "IPY_MODEL_9b22739ec1004be294930357081d510b",
       "value": 485
      }
     },
     "4960955e0f124479b48da30c9a6b0551": {
      "model_module": "@jupyter-widgets/controls",
      "model_module_version": "1.5.0",
      "model_name": "FloatProgressModel",
      "state": {
       "_dom_classes": [],
       "_model_module": "@jupyter-widgets/controls",
       "_model_module_version": "1.5.0",
       "_model_name": "FloatProgressModel",
       "_view_count": null,
       "_view_module": "@jupyter-widgets/controls",
       "_view_module_version": "1.5.0",
       "_view_name": "ProgressView",
       "bar_style": "success",
       "description": "",
       "description_tooltip": null,
       "layout": "IPY_MODEL_6358e056a35143dc895e86f397f8f36b",
       "max": 7747,
       "min": 0,
       "orientation": "horizontal",
       "style": "IPY_MODEL_b19536d9b5d94d1786ac000088151fe9",
       "value": 7747
      }
     },
     "6358e056a35143dc895e86f397f8f36b": {
      "model_module": "@jupyter-widgets/base",
      "model_module_version": "1.2.0",
      "model_name": "LayoutModel",
      "state": {
       "_model_module": "@jupyter-widgets/base",
       "_model_module_version": "1.2.0",
       "_model_name": "LayoutModel",
       "_view_count": null,
       "_view_module": "@jupyter-widgets/base",
       "_view_module_version": "1.2.0",
       "_view_name": "LayoutView",
       "align_content": null,
       "align_items": null,
       "align_self": null,
       "border": null,
       "bottom": null,
       "display": null,
       "flex": null,
       "flex_flow": null,
       "grid_area": null,
       "grid_auto_columns": null,
       "grid_auto_flow": null,
       "grid_auto_rows": null,
       "grid_column": null,
       "grid_gap": null,
       "grid_row": null,
       "grid_template_areas": null,
       "grid_template_columns": null,
       "grid_template_rows": null,
       "height": null,
       "justify_content": null,
       "justify_items": null,
       "left": null,
       "margin": null,
       "max_height": null,
       "max_width": null,
       "min_height": null,
       "min_width": null,
       "object_fit": null,
       "object_position": null,
       "order": null,
       "overflow": null,
       "overflow_x": null,
       "overflow_y": null,
       "padding": null,
       "right": null,
       "top": null,
       "visibility": null,
       "width": null
      }
     },
     "697c6af145fe47e6850fe594fd7f0121": {
      "model_module": "@jupyter-widgets/base",
      "model_module_version": "1.2.0",
      "model_name": "LayoutModel",
      "state": {
       "_model_module": "@jupyter-widgets/base",
       "_model_module_version": "1.2.0",
       "_model_name": "LayoutModel",
       "_view_count": null,
       "_view_module": "@jupyter-widgets/base",
       "_view_module_version": "1.2.0",
       "_view_name": "LayoutView",
       "align_content": null,
       "align_items": null,
       "align_self": null,
       "border": null,
       "bottom": null,
       "display": null,
       "flex": null,
       "flex_flow": null,
       "grid_area": null,
       "grid_auto_columns": null,
       "grid_auto_flow": null,
       "grid_auto_rows": null,
       "grid_column": null,
       "grid_gap": null,
       "grid_row": null,
       "grid_template_areas": null,
       "grid_template_columns": null,
       "grid_template_rows": null,
       "height": null,
       "justify_content": null,
       "justify_items": null,
       "left": null,
       "margin": null,
       "max_height": null,
       "max_width": null,
       "min_height": null,
       "min_width": null,
       "object_fit": null,
       "object_position": null,
       "order": null,
       "overflow": null,
       "overflow_x": null,
       "overflow_y": null,
       "padding": null,
       "right": null,
       "top": null,
       "visibility": null,
       "width": null
      }
     },
     "71e5e313f44e412db494b01e3e04a2b0": {
      "model_module": "@jupyter-widgets/controls",
      "model_module_version": "1.5.0",
      "model_name": "DescriptionStyleModel",
      "state": {
       "_model_module": "@jupyter-widgets/controls",
       "_model_module_version": "1.5.0",
       "_model_name": "DescriptionStyleModel",
       "_view_count": null,
       "_view_module": "@jupyter-widgets/base",
       "_view_module_version": "1.2.0",
       "_view_name": "StyleView",
       "description_width": ""
      }
     },
     "7bf4a8d0afd14f0fa68b543915f761ff": {
      "model_module": "@jupyter-widgets/base",
      "model_module_version": "1.2.0",
      "model_name": "LayoutModel",
      "state": {
       "_model_module": "@jupyter-widgets/base",
       "_model_module_version": "1.2.0",
       "_model_name": "LayoutModel",
       "_view_count": null,
       "_view_module": "@jupyter-widgets/base",
       "_view_module_version": "1.2.0",
       "_view_name": "LayoutView",
       "align_content": null,
       "align_items": null,
       "align_self": null,
       "border": null,
       "bottom": null,
       "display": null,
       "flex": null,
       "flex_flow": null,
       "grid_area": null,
       "grid_auto_columns": null,
       "grid_auto_flow": null,
       "grid_auto_rows": null,
       "grid_column": null,
       "grid_gap": null,
       "grid_row": null,
       "grid_template_areas": null,
       "grid_template_columns": null,
       "grid_template_rows": null,
       "height": null,
       "justify_content": null,
       "justify_items": null,
       "left": null,
       "margin": null,
       "max_height": null,
       "max_width": null,
       "min_height": null,
       "min_width": null,
       "object_fit": null,
       "object_position": null,
       "order": null,
       "overflow": null,
       "overflow_x": null,
       "overflow_y": null,
       "padding": null,
       "right": null,
       "top": null,
       "visibility": null,
       "width": null
      }
     },
     "9b22739ec1004be294930357081d510b": {
      "model_module": "@jupyter-widgets/controls",
      "model_module_version": "1.5.0",
      "model_name": "ProgressStyleModel",
      "state": {
       "_model_module": "@jupyter-widgets/controls",
       "_model_module_version": "1.5.0",
       "_model_name": "ProgressStyleModel",
       "_view_count": null,
       "_view_module": "@jupyter-widgets/base",
       "_view_module_version": "1.2.0",
       "_view_name": "StyleView",
       "bar_color": null,
       "description_width": ""
      }
     },
     "b11a410d38fa42ffb1a3b83e15cd8a1c": {
      "model_module": "@jupyter-widgets/base",
      "model_module_version": "1.2.0",
      "model_name": "LayoutModel",
      "state": {
       "_model_module": "@jupyter-widgets/base",
       "_model_module_version": "1.2.0",
       "_model_name": "LayoutModel",
       "_view_count": null,
       "_view_module": "@jupyter-widgets/base",
       "_view_module_version": "1.2.0",
       "_view_name": "LayoutView",
       "align_content": null,
       "align_items": null,
       "align_self": null,
       "border": null,
       "bottom": null,
       "display": null,
       "flex": null,
       "flex_flow": null,
       "grid_area": null,
       "grid_auto_columns": null,
       "grid_auto_flow": null,
       "grid_auto_rows": null,
       "grid_column": null,
       "grid_gap": null,
       "grid_row": null,
       "grid_template_areas": null,
       "grid_template_columns": null,
       "grid_template_rows": null,
       "height": null,
       "justify_content": null,
       "justify_items": null,
       "left": null,
       "margin": null,
       "max_height": null,
       "max_width": null,
       "min_height": null,
       "min_width": null,
       "object_fit": null,
       "object_position": null,
       "order": null,
       "overflow": null,
       "overflow_x": null,
       "overflow_y": null,
       "padding": null,
       "right": null,
       "top": null,
       "visibility": null,
       "width": null
      }
     },
     "b19536d9b5d94d1786ac000088151fe9": {
      "model_module": "@jupyter-widgets/controls",
      "model_module_version": "1.5.0",
      "model_name": "ProgressStyleModel",
      "state": {
       "_model_module": "@jupyter-widgets/controls",
       "_model_module_version": "1.5.0",
       "_model_name": "ProgressStyleModel",
       "_view_count": null,
       "_view_module": "@jupyter-widgets/base",
       "_view_module_version": "1.2.0",
       "_view_name": "StyleView",
       "bar_color": null,
       "description_width": ""
      }
     },
     "d2b99084dd684a3899bf2450a31e1aa8": {
      "model_module": "@jupyter-widgets/base",
      "model_module_version": "1.2.0",
      "model_name": "LayoutModel",
      "state": {
       "_model_module": "@jupyter-widgets/base",
       "_model_module_version": "1.2.0",
       "_model_name": "LayoutModel",
       "_view_count": null,
       "_view_module": "@jupyter-widgets/base",
       "_view_module_version": "1.2.0",
       "_view_name": "LayoutView",
       "align_content": null,
       "align_items": null,
       "align_self": null,
       "border": null,
       "bottom": null,
       "display": null,
       "flex": null,
       "flex_flow": null,
       "grid_area": null,
       "grid_auto_columns": null,
       "grid_auto_flow": null,
       "grid_auto_rows": null,
       "grid_column": null,
       "grid_gap": null,
       "grid_row": null,
       "grid_template_areas": null,
       "grid_template_columns": null,
       "grid_template_rows": null,
       "height": null,
       "justify_content": null,
       "justify_items": null,
       "left": null,
       "margin": null,
       "max_height": null,
       "max_width": null,
       "min_height": null,
       "min_width": null,
       "object_fit": null,
       "object_position": null,
       "order": null,
       "overflow": null,
       "overflow_x": null,
       "overflow_y": null,
       "padding": null,
       "right": null,
       "top": null,
       "visibility": null,
       "width": null
      }
     },
     "dc6dd0095c1a4e58bc0d2d273142c487": {
      "model_module": "@jupyter-widgets/controls",
      "model_module_version": "1.5.0",
      "model_name": "DescriptionStyleModel",
      "state": {
       "_model_module": "@jupyter-widgets/controls",
       "_model_module_version": "1.5.0",
       "_model_name": "DescriptionStyleModel",
       "_view_count": null,
       "_view_module": "@jupyter-widgets/base",
       "_view_module_version": "1.2.0",
       "_view_name": "StyleView",
       "description_width": ""
      }
     },
     "eb35277a783348cbb7686728774d45cc": {
      "model_module": "@jupyter-widgets/controls",
      "model_module_version": "1.5.0",
      "model_name": "HTMLModel",
      "state": {
       "_dom_classes": [],
       "_model_module": "@jupyter-widgets/controls",
       "_model_module_version": "1.5.0",
       "_model_name": "HTMLModel",
       "_view_count": null,
       "_view_module": "@jupyter-widgets/controls",
       "_view_module_version": "1.5.0",
       "_view_name": "HTMLView",
       "description": "",
       "description_tooltip": null,
       "layout": "IPY_MODEL_1329e4b7421d4b5686871e4ed1a7be00",
       "placeholder": "​",
       "style": "IPY_MODEL_453b081a617842f7b754abf28563a15e",
       "value": "100%"
      }
     },
     "f2097df1470c4aeea18312e2543bf648": {
      "model_module": "@jupyter-widgets/controls",
      "model_module_version": "1.5.0",
      "model_name": "HTMLModel",
      "state": {
       "_dom_classes": [],
       "_model_module": "@jupyter-widgets/controls",
       "_model_module_version": "1.5.0",
       "_model_name": "HTMLModel",
       "_view_count": null,
       "_view_module": "@jupyter-widgets/controls",
       "_view_module_version": "1.5.0",
       "_view_name": "HTMLView",
       "description": "",
       "description_tooltip": null,
       "layout": "IPY_MODEL_0e094c5afbc74859ae328a7324c21715",
       "placeholder": "​",
       "style": "IPY_MODEL_dc6dd0095c1a4e58bc0d2d273142c487",
       "value": " 7747/7747 [00:00&lt;00:00, 260960.80it/s]"
      }
     },
     "fc2b08929cc4448e832b2a4dcdb349a1": {
      "model_module": "@jupyter-widgets/controls",
      "model_module_version": "1.5.0",
      "model_name": "HBoxModel",
      "state": {
       "_dom_classes": [],
       "_model_module": "@jupyter-widgets/controls",
       "_model_module_version": "1.5.0",
       "_model_name": "HBoxModel",
       "_view_count": null,
       "_view_module": "@jupyter-widgets/controls",
       "_view_module_version": "1.5.0",
       "_view_name": "HBoxView",
       "box_style": "",
       "children": [
        "IPY_MODEL_eb35277a783348cbb7686728774d45cc",
        "IPY_MODEL_484780f27390489da88dfb96411f0b0e",
        "IPY_MODEL_01e4f673cf55437e968007afa2b8f1e7"
       ],
       "layout": "IPY_MODEL_2489de3bc1144144aeddffa047ca76c7"
      }
     }
    },
    "version_major": 2,
    "version_minor": 0
   }
  }
 },
 "nbformat": 4,
 "nbformat_minor": 5
}
